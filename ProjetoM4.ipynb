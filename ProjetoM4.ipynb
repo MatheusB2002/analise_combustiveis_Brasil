{
  "cells": [
    {
      "cell_type": "markdown",
      "metadata": {
        "id": "view-in-github",
        "colab_type": "text"
      },
      "source": [
        "<a href=\"https://colab.research.google.com/github/joaorosa2/analise_combustiveis_brasil/blob/respondendo-perguntas4/ProjetoM4.ipynb\" target=\"_parent\"><img src=\"https://colab.research.google.com/assets/colab-badge.svg\" alt=\"Open In Colab\"/></a>"
      ]
    },
    {
      "cell_type": "code",
      "execution_count": 1,
      "metadata": {
        "id": "6RCt4OZHcNrv"
      },
      "outputs": [],
      "source": [
        "import pandas as pd\n",
        "import numpy as np\n",
        "\n",
        "tabelaAgosto  = pd.read_csv('https://raw.githubusercontent.com/joaorosa2/analise_combustiveis_brasil/main/precos-gasolina-etanol-Agosto.csv',sep= ';',engine= 'python')\n",
        "tabelaJulho = pd.read_csv('https://raw.githubusercontent.com/joaorosa2/analise_combustiveis_brasil/main/precos-gasolina-etanol-Julho.csv',sep= ';',engine= 'python')"
      ]
    },
    {
      "cell_type": "code",
      "execution_count": 9,
      "metadata": {
        "colab": {
          "base_uri": "https://localhost:8080/",
          "height": 1000
        },
        "id": "ZfNGX8cKtkKt",
        "outputId": "162878ad-769a-4487-c184-75307785ead6"
      },
      "outputs": [
        {
          "output_type": "execute_result",
          "data": {
            "text/plain": [
              "      Regiao - Sigla Estado - Sigla  Municipio  \\\n",
              "0                 NE             AL  ARAPIRACA   \n",
              "1                 NE             AL  ARAPIRACA   \n",
              "2                 NE             AL  ARAPIRACA   \n",
              "3                 NE             AL  ARAPIRACA   \n",
              "4                 NE             AL  ARAPIRACA   \n",
              "...              ...            ...        ...   \n",
              "69539             CO             DF   BRASILIA   \n",
              "69540             CO             DF   BRASILIA   \n",
              "69541             CO             DF   BRASILIA   \n",
              "69542             SE             MG    JANAUBA   \n",
              "69543             SE             MG    JANAUBA   \n",
              "\n",
              "                                                 Revenda      CNPJ da Revenda  \\\n",
              "0                            AUTO POSTO M M GARROTE LTDA   08.738.994/0001-50   \n",
              "1                            AUTO POSTO M M GARROTE LTDA   08.738.994/0001-50   \n",
              "2                          AUTO POSTO MASSARANDUBA LTDA.   07.248.398/0001-29   \n",
              "3                          AUTO POSTO MASSARANDUBA LTDA.   07.248.398/0001-29   \n",
              "4                          AUTO POSTO MASSARANDUBA LTDA.   07.248.398/0001-29   \n",
              "...                                                  ...                  ...   \n",
              "69539  POSTO TOP TAGUATINGA COMERCIO DE COMBUSTIVEIS ...   37.189.518/0001-25   \n",
              "69540  POSTO TOP TAGUATINGA COMERCIO DE COMBUSTIVEIS ...   37.189.518/0001-25   \n",
              "69541  POSTO TOP TAGUATINGA COMERCIO DE COMBUSTIVEIS ...   37.189.518/0001-25   \n",
              "69542         AUTO POSTO COMBUSTIVEIS VERAS SANTANA LTDA   33.063.482/0001-88   \n",
              "69543         AUTO POSTO COMBUSTIVEIS VERAS SANTANA LTDA   33.063.482/0001-88   \n",
              "\n",
              "                    Nome da Rua Numero Rua           Complemento  \\\n",
              "0                RODOVIA AL-220       5848              KM    96   \n",
              "1                RODOVIA AL-220       5848              KM    96   \n",
              "2                RODOVIA AL 220       4698                   NaN   \n",
              "3                RODOVIA AL 220       4698                   NaN   \n",
              "4                RODOVIA AL 220       4698                   NaN   \n",
              "...                         ...        ...                   ...   \n",
              "69539  QUADRA QI 23 LOTES 40/41         42  POSTO DE GASOLINA 01   \n",
              "69540  QUADRA QI 23 LOTES 40/41         42  POSTO DE GASOLINA 01   \n",
              "69541  QUADRA QI 23 LOTES 40/41         42  POSTO DE GASOLINA 01   \n",
              "69542        AVENIDA DA SAUDADE        656                   NaN   \n",
              "69543        AVENIDA DA SAUDADE        656                   NaN   \n",
              "\n",
              "                              Bairro        Cep             Produto  \\\n",
              "0                        BOM SUCESSO  57309-035              ETANOL   \n",
              "1                        BOM SUCESSO  57309-035            GASOLINA   \n",
              "2                           PLANALTO  57308-000  GASOLINA ADITIVADA   \n",
              "3                           PLANALTO  57308-000              ETANOL   \n",
              "4                           PLANALTO  57308-000            GASOLINA   \n",
              "...                              ...        ...                 ...   \n",
              "69539  SETOR INDUSTRIAL (TAGUATINGA)  72135-230              ETANOL   \n",
              "69540  SETOR INDUSTRIAL (TAGUATINGA)  72135-230            GASOLINA   \n",
              "69541  SETOR INDUSTRIAL (TAGUATINGA)  72135-230  GASOLINA ADITIVADA   \n",
              "69542                  SANTO ANTONIO  39447-190            GASOLINA   \n",
              "69543                  SANTO ANTONIO  39447-190              ETANOL   \n",
              "\n",
              "      Data da Coleta  Valor de Venda  Valor de Compra Unidade de Medida  \\\n",
              "0         01/08/2022            4.79              NaN        R$ / litro   \n",
              "1         01/08/2022            5.59              NaN        R$ / litro   \n",
              "2         01/08/2022            5.99              NaN        R$ / litro   \n",
              "3         01/08/2022            4.99              NaN        R$ / litro   \n",
              "4         01/08/2022            5.79              NaN        R$ / litro   \n",
              "...              ...             ...              ...               ...   \n",
              "69539     31/08/2022            3.99              NaN        R$ / litro   \n",
              "69540     31/08/2022            5.19              NaN        R$ / litro   \n",
              "69541     31/08/2022            5.19              NaN        R$ / litro   \n",
              "69542     31/08/2022            5.27              NaN        R$ / litro   \n",
              "69543     31/08/2022            3.67              NaN        R$ / litro   \n",
              "\n",
              "            Bandeira  \n",
              "0      VIBRA ENERGIA  \n",
              "1      VIBRA ENERGIA  \n",
              "2             BRANCA  \n",
              "3             BRANCA  \n",
              "4             BRANCA  \n",
              "...              ...  \n",
              "69539       IPIRANGA  \n",
              "69540       IPIRANGA  \n",
              "69541       IPIRANGA  \n",
              "69542         BRANCA  \n",
              "69543         BRANCA  \n",
              "\n",
              "[69544 rows x 16 columns]"
            ],
            "text/html": [
              "\n",
              "  <div id=\"df-53aa117f-d489-437d-be42-4d8418ebcbbb\">\n",
              "    <div class=\"colab-df-container\">\n",
              "      <div>\n",
              "<style scoped>\n",
              "    .dataframe tbody tr th:only-of-type {\n",
              "        vertical-align: middle;\n",
              "    }\n",
              "\n",
              "    .dataframe tbody tr th {\n",
              "        vertical-align: top;\n",
              "    }\n",
              "\n",
              "    .dataframe thead th {\n",
              "        text-align: right;\n",
              "    }\n",
              "</style>\n",
              "<table border=\"1\" class=\"dataframe\">\n",
              "  <thead>\n",
              "    <tr style=\"text-align: right;\">\n",
              "      <th></th>\n",
              "      <th>Regiao - Sigla</th>\n",
              "      <th>Estado - Sigla</th>\n",
              "      <th>Municipio</th>\n",
              "      <th>Revenda</th>\n",
              "      <th>CNPJ da Revenda</th>\n",
              "      <th>Nome da Rua</th>\n",
              "      <th>Numero Rua</th>\n",
              "      <th>Complemento</th>\n",
              "      <th>Bairro</th>\n",
              "      <th>Cep</th>\n",
              "      <th>Produto</th>\n",
              "      <th>Data da Coleta</th>\n",
              "      <th>Valor de Venda</th>\n",
              "      <th>Valor de Compra</th>\n",
              "      <th>Unidade de Medida</th>\n",
              "      <th>Bandeira</th>\n",
              "    </tr>\n",
              "  </thead>\n",
              "  <tbody>\n",
              "    <tr>\n",
              "      <th>0</th>\n",
              "      <td>NE</td>\n",
              "      <td>AL</td>\n",
              "      <td>ARAPIRACA</td>\n",
              "      <td>AUTO POSTO M M GARROTE LTDA</td>\n",
              "      <td>08.738.994/0001-50</td>\n",
              "      <td>RODOVIA AL-220</td>\n",
              "      <td>5848</td>\n",
              "      <td>KM    96</td>\n",
              "      <td>BOM SUCESSO</td>\n",
              "      <td>57309-035</td>\n",
              "      <td>ETANOL</td>\n",
              "      <td>01/08/2022</td>\n",
              "      <td>4.79</td>\n",
              "      <td>NaN</td>\n",
              "      <td>R$ / litro</td>\n",
              "      <td>VIBRA ENERGIA</td>\n",
              "    </tr>\n",
              "    <tr>\n",
              "      <th>1</th>\n",
              "      <td>NE</td>\n",
              "      <td>AL</td>\n",
              "      <td>ARAPIRACA</td>\n",
              "      <td>AUTO POSTO M M GARROTE LTDA</td>\n",
              "      <td>08.738.994/0001-50</td>\n",
              "      <td>RODOVIA AL-220</td>\n",
              "      <td>5848</td>\n",
              "      <td>KM    96</td>\n",
              "      <td>BOM SUCESSO</td>\n",
              "      <td>57309-035</td>\n",
              "      <td>GASOLINA</td>\n",
              "      <td>01/08/2022</td>\n",
              "      <td>5.59</td>\n",
              "      <td>NaN</td>\n",
              "      <td>R$ / litro</td>\n",
              "      <td>VIBRA ENERGIA</td>\n",
              "    </tr>\n",
              "    <tr>\n",
              "      <th>2</th>\n",
              "      <td>NE</td>\n",
              "      <td>AL</td>\n",
              "      <td>ARAPIRACA</td>\n",
              "      <td>AUTO POSTO MASSARANDUBA LTDA.</td>\n",
              "      <td>07.248.398/0001-29</td>\n",
              "      <td>RODOVIA AL 220</td>\n",
              "      <td>4698</td>\n",
              "      <td>NaN</td>\n",
              "      <td>PLANALTO</td>\n",
              "      <td>57308-000</td>\n",
              "      <td>GASOLINA ADITIVADA</td>\n",
              "      <td>01/08/2022</td>\n",
              "      <td>5.99</td>\n",
              "      <td>NaN</td>\n",
              "      <td>R$ / litro</td>\n",
              "      <td>BRANCA</td>\n",
              "    </tr>\n",
              "    <tr>\n",
              "      <th>3</th>\n",
              "      <td>NE</td>\n",
              "      <td>AL</td>\n",
              "      <td>ARAPIRACA</td>\n",
              "      <td>AUTO POSTO MASSARANDUBA LTDA.</td>\n",
              "      <td>07.248.398/0001-29</td>\n",
              "      <td>RODOVIA AL 220</td>\n",
              "      <td>4698</td>\n",
              "      <td>NaN</td>\n",
              "      <td>PLANALTO</td>\n",
              "      <td>57308-000</td>\n",
              "      <td>ETANOL</td>\n",
              "      <td>01/08/2022</td>\n",
              "      <td>4.99</td>\n",
              "      <td>NaN</td>\n",
              "      <td>R$ / litro</td>\n",
              "      <td>BRANCA</td>\n",
              "    </tr>\n",
              "    <tr>\n",
              "      <th>4</th>\n",
              "      <td>NE</td>\n",
              "      <td>AL</td>\n",
              "      <td>ARAPIRACA</td>\n",
              "      <td>AUTO POSTO MASSARANDUBA LTDA.</td>\n",
              "      <td>07.248.398/0001-29</td>\n",
              "      <td>RODOVIA AL 220</td>\n",
              "      <td>4698</td>\n",
              "      <td>NaN</td>\n",
              "      <td>PLANALTO</td>\n",
              "      <td>57308-000</td>\n",
              "      <td>GASOLINA</td>\n",
              "      <td>01/08/2022</td>\n",
              "      <td>5.79</td>\n",
              "      <td>NaN</td>\n",
              "      <td>R$ / litro</td>\n",
              "      <td>BRANCA</td>\n",
              "    </tr>\n",
              "    <tr>\n",
              "      <th>...</th>\n",
              "      <td>...</td>\n",
              "      <td>...</td>\n",
              "      <td>...</td>\n",
              "      <td>...</td>\n",
              "      <td>...</td>\n",
              "      <td>...</td>\n",
              "      <td>...</td>\n",
              "      <td>...</td>\n",
              "      <td>...</td>\n",
              "      <td>...</td>\n",
              "      <td>...</td>\n",
              "      <td>...</td>\n",
              "      <td>...</td>\n",
              "      <td>...</td>\n",
              "      <td>...</td>\n",
              "      <td>...</td>\n",
              "    </tr>\n",
              "    <tr>\n",
              "      <th>69539</th>\n",
              "      <td>CO</td>\n",
              "      <td>DF</td>\n",
              "      <td>BRASILIA</td>\n",
              "      <td>POSTO TOP TAGUATINGA COMERCIO DE COMBUSTIVEIS ...</td>\n",
              "      <td>37.189.518/0001-25</td>\n",
              "      <td>QUADRA QI 23 LOTES 40/41</td>\n",
              "      <td>42</td>\n",
              "      <td>POSTO DE GASOLINA 01</td>\n",
              "      <td>SETOR INDUSTRIAL (TAGUATINGA)</td>\n",
              "      <td>72135-230</td>\n",
              "      <td>ETANOL</td>\n",
              "      <td>31/08/2022</td>\n",
              "      <td>3.99</td>\n",
              "      <td>NaN</td>\n",
              "      <td>R$ / litro</td>\n",
              "      <td>IPIRANGA</td>\n",
              "    </tr>\n",
              "    <tr>\n",
              "      <th>69540</th>\n",
              "      <td>CO</td>\n",
              "      <td>DF</td>\n",
              "      <td>BRASILIA</td>\n",
              "      <td>POSTO TOP TAGUATINGA COMERCIO DE COMBUSTIVEIS ...</td>\n",
              "      <td>37.189.518/0001-25</td>\n",
              "      <td>QUADRA QI 23 LOTES 40/41</td>\n",
              "      <td>42</td>\n",
              "      <td>POSTO DE GASOLINA 01</td>\n",
              "      <td>SETOR INDUSTRIAL (TAGUATINGA)</td>\n",
              "      <td>72135-230</td>\n",
              "      <td>GASOLINA</td>\n",
              "      <td>31/08/2022</td>\n",
              "      <td>5.19</td>\n",
              "      <td>NaN</td>\n",
              "      <td>R$ / litro</td>\n",
              "      <td>IPIRANGA</td>\n",
              "    </tr>\n",
              "    <tr>\n",
              "      <th>69541</th>\n",
              "      <td>CO</td>\n",
              "      <td>DF</td>\n",
              "      <td>BRASILIA</td>\n",
              "      <td>POSTO TOP TAGUATINGA COMERCIO DE COMBUSTIVEIS ...</td>\n",
              "      <td>37.189.518/0001-25</td>\n",
              "      <td>QUADRA QI 23 LOTES 40/41</td>\n",
              "      <td>42</td>\n",
              "      <td>POSTO DE GASOLINA 01</td>\n",
              "      <td>SETOR INDUSTRIAL (TAGUATINGA)</td>\n",
              "      <td>72135-230</td>\n",
              "      <td>GASOLINA ADITIVADA</td>\n",
              "      <td>31/08/2022</td>\n",
              "      <td>5.19</td>\n",
              "      <td>NaN</td>\n",
              "      <td>R$ / litro</td>\n",
              "      <td>IPIRANGA</td>\n",
              "    </tr>\n",
              "    <tr>\n",
              "      <th>69542</th>\n",
              "      <td>SE</td>\n",
              "      <td>MG</td>\n",
              "      <td>JANAUBA</td>\n",
              "      <td>AUTO POSTO COMBUSTIVEIS VERAS SANTANA LTDA</td>\n",
              "      <td>33.063.482/0001-88</td>\n",
              "      <td>AVENIDA DA SAUDADE</td>\n",
              "      <td>656</td>\n",
              "      <td>NaN</td>\n",
              "      <td>SANTO ANTONIO</td>\n",
              "      <td>39447-190</td>\n",
              "      <td>GASOLINA</td>\n",
              "      <td>31/08/2022</td>\n",
              "      <td>5.27</td>\n",
              "      <td>NaN</td>\n",
              "      <td>R$ / litro</td>\n",
              "      <td>BRANCA</td>\n",
              "    </tr>\n",
              "    <tr>\n",
              "      <th>69543</th>\n",
              "      <td>SE</td>\n",
              "      <td>MG</td>\n",
              "      <td>JANAUBA</td>\n",
              "      <td>AUTO POSTO COMBUSTIVEIS VERAS SANTANA LTDA</td>\n",
              "      <td>33.063.482/0001-88</td>\n",
              "      <td>AVENIDA DA SAUDADE</td>\n",
              "      <td>656</td>\n",
              "      <td>NaN</td>\n",
              "      <td>SANTO ANTONIO</td>\n",
              "      <td>39447-190</td>\n",
              "      <td>ETANOL</td>\n",
              "      <td>31/08/2022</td>\n",
              "      <td>3.67</td>\n",
              "      <td>NaN</td>\n",
              "      <td>R$ / litro</td>\n",
              "      <td>BRANCA</td>\n",
              "    </tr>\n",
              "  </tbody>\n",
              "</table>\n",
              "<p>69544 rows × 16 columns</p>\n",
              "</div>\n",
              "      <button class=\"colab-df-convert\" onclick=\"convertToInteractive('df-53aa117f-d489-437d-be42-4d8418ebcbbb')\"\n",
              "              title=\"Convert this dataframe to an interactive table.\"\n",
              "              style=\"display:none;\">\n",
              "        \n",
              "  <svg xmlns=\"http://www.w3.org/2000/svg\" height=\"24px\"viewBox=\"0 0 24 24\"\n",
              "       width=\"24px\">\n",
              "    <path d=\"M0 0h24v24H0V0z\" fill=\"none\"/>\n",
              "    <path d=\"M18.56 5.44l.94 2.06.94-2.06 2.06-.94-2.06-.94-.94-2.06-.94 2.06-2.06.94zm-11 1L8.5 8.5l.94-2.06 2.06-.94-2.06-.94L8.5 2.5l-.94 2.06-2.06.94zm10 10l.94 2.06.94-2.06 2.06-.94-2.06-.94-.94-2.06-.94 2.06-2.06.94z\"/><path d=\"M17.41 7.96l-1.37-1.37c-.4-.4-.92-.59-1.43-.59-.52 0-1.04.2-1.43.59L10.3 9.45l-7.72 7.72c-.78.78-.78 2.05 0 2.83L4 21.41c.39.39.9.59 1.41.59.51 0 1.02-.2 1.41-.59l7.78-7.78 2.81-2.81c.8-.78.8-2.07 0-2.86zM5.41 20L4 18.59l7.72-7.72 1.47 1.35L5.41 20z\"/>\n",
              "  </svg>\n",
              "      </button>\n",
              "      \n",
              "  <style>\n",
              "    .colab-df-container {\n",
              "      display:flex;\n",
              "      flex-wrap:wrap;\n",
              "      gap: 12px;\n",
              "    }\n",
              "\n",
              "    .colab-df-convert {\n",
              "      background-color: #E8F0FE;\n",
              "      border: none;\n",
              "      border-radius: 50%;\n",
              "      cursor: pointer;\n",
              "      display: none;\n",
              "      fill: #1967D2;\n",
              "      height: 32px;\n",
              "      padding: 0 0 0 0;\n",
              "      width: 32px;\n",
              "    }\n",
              "\n",
              "    .colab-df-convert:hover {\n",
              "      background-color: #E2EBFA;\n",
              "      box-shadow: 0px 1px 2px rgba(60, 64, 67, 0.3), 0px 1px 3px 1px rgba(60, 64, 67, 0.15);\n",
              "      fill: #174EA6;\n",
              "    }\n",
              "\n",
              "    [theme=dark] .colab-df-convert {\n",
              "      background-color: #3B4455;\n",
              "      fill: #D2E3FC;\n",
              "    }\n",
              "\n",
              "    [theme=dark] .colab-df-convert:hover {\n",
              "      background-color: #434B5C;\n",
              "      box-shadow: 0px 1px 3px 1px rgba(0, 0, 0, 0.15);\n",
              "      filter: drop-shadow(0px 1px 2px rgba(0, 0, 0, 0.3));\n",
              "      fill: #FFFFFF;\n",
              "    }\n",
              "  </style>\n",
              "\n",
              "      <script>\n",
              "        const buttonEl =\n",
              "          document.querySelector('#df-53aa117f-d489-437d-be42-4d8418ebcbbb button.colab-df-convert');\n",
              "        buttonEl.style.display =\n",
              "          google.colab.kernel.accessAllowed ? 'block' : 'none';\n",
              "\n",
              "        async function convertToInteractive(key) {\n",
              "          const element = document.querySelector('#df-53aa117f-d489-437d-be42-4d8418ebcbbb');\n",
              "          const dataTable =\n",
              "            await google.colab.kernel.invokeFunction('convertToInteractive',\n",
              "                                                     [key], {});\n",
              "          if (!dataTable) return;\n",
              "\n",
              "          const docLinkHtml = 'Like what you see? Visit the ' +\n",
              "            '<a target=\"_blank\" href=https://colab.research.google.com/notebooks/data_table.ipynb>data table notebook</a>'\n",
              "            + ' to learn more about interactive tables.';\n",
              "          element.innerHTML = '';\n",
              "          dataTable['output_type'] = 'display_data';\n",
              "          await google.colab.output.renderOutput(dataTable, element);\n",
              "          const docLink = document.createElement('div');\n",
              "          docLink.innerHTML = docLinkHtml;\n",
              "          element.appendChild(docLink);\n",
              "        }\n",
              "      </script>\n",
              "    </div>\n",
              "  </div>\n",
              "  "
            ]
          },
          "metadata": {},
          "execution_count": 9
        }
      ],
      "source": [
        "tabelaAgosto"
      ]
    },
    {
      "cell_type": "code",
      "execution_count": null,
      "metadata": {
        "id": "uMKclFCnkOE0"
      },
      "outputs": [],
      "source": [
        "tabelaJulho"
      ]
    },
    {
      "cell_type": "code",
      "source": [
        "colocaPonto = lambda x: x.replace(',','.')\n",
        "\n",
        "tabelaJulho['Valor de Venda'] =(tabelaJulho['Valor de Venda'].apply(colocaPonto)).astype(str).astype(float)\n",
        "tabelaAgosto['Valor de Venda'] = (tabelaAgosto['Valor de Venda'].apply(colocaPonto)).astype(str).astype(float)"
      ],
      "metadata": {
        "id": "wDcykjPpotJH"
      },
      "execution_count": 4,
      "outputs": []
    },
    {
      "cell_type": "code",
      "source": [
        "tabelaAgosto['Valor de Venda'].mean().round(2)"
      ],
      "metadata": {
        "id": "eqV2l-zUrq8_"
      },
      "execution_count": null,
      "outputs": []
    },
    {
      "cell_type": "code",
      "source": [
        "\n",
        "tabelaJulho['Valor de Venda'].mean().round(2)"
      ],
      "metadata": {
        "id": "yFQJdS5_pOJZ"
      },
      "execution_count": null,
      "outputs": []
    },
    {
      "cell_type": "markdown",
      "source": [
        "#<font color = yellow> 1- Como se comportaram o preço dos combustíveis durante os dois meses citados? Os valores do etanol eda gasolina tiveram uma de queda ou diminuição?"
      ],
      "metadata": {
        "id": "QOJxOUGNusk8"
      }
    },
    {
      "cell_type": "code",
      "source": [
        "print(tabelaJulho['Valor de Venda'].mean().round(2),tabelaAgosto['Valor de Venda'].mean().round(2))\n",
        "\n",
        "\n",
        "porcentagem = ((5.67-5.09)*100)/5.67\n",
        "print(f'Houve uma diminuição do preço em {porcentagem}%')"
      ],
      "metadata": {
        "colab": {
          "base_uri": "https://localhost:8080/"
        },
        "id": "FYwvxFVGu8XS",
        "outputId": "2f70f59b-7106-4b87-9bd3-ca978057d767"
      },
      "execution_count": null,
      "outputs": [
        {
          "output_type": "stream",
          "name": "stdout",
          "text": [
            "5.67 5.09\n",
            "Houve uma diminuição do preço em 10.229276895943563%\n"
          ]
        }
      ]
    },
    {
      "cell_type": "markdown",
      "source": [
        "#<font color = yellow>2- Qual o preço médio da gasolina e do etanol nesses dois meses?"
      ],
      "metadata": {
        "id": "sVpOiGiA1olw"
      }
    },
    {
      "cell_type": "code",
      "source": [
        "print((tabelaJulho['Valor de Venda'].mean()+tabelaAgosto['Valor de Venda'].mean())/2)"
      ],
      "metadata": {
        "colab": {
          "base_uri": "https://localhost:8080/"
        },
        "id": "JykBkARv162o",
        "outputId": "a2554025-d1b3-46fe-e421-d2affc7a47c2"
      },
      "execution_count": null,
      "outputs": [
        {
          "output_type": "stream",
          "name": "stdout",
          "text": [
            "5.382704271070375\n"
          ]
        }
      ]
    },
    {
      "cell_type": "code",
      "source": [
        "tabelaJulho['Valor de Venda'].median()"
      ],
      "metadata": {
        "colab": {
          "base_uri": "https://localhost:8080/"
        },
        "id": "zmC_VLy19zFc",
        "outputId": "a468ee61-cd65-4b97-98d1-1c6b2bf97fcf"
      },
      "execution_count": null,
      "outputs": [
        {
          "output_type": "execute_result",
          "data": {
            "text/plain": [
              "5.85"
            ]
          },
          "metadata": {},
          "execution_count": 9
        }
      ]
    },
    {
      "cell_type": "markdown",
      "source": [
        "#<font color = yellow> 4. Qual o preço médio da gasolina e do etanol por estado?"
      ],
      "metadata": {
        "id": "LnDN7uCXYE4b"
      }
    },
    {
      "cell_type": "code",
      "source": [
        "print(tabelaJulho['Valor de Venda'].groupby([tabelaJulho['Produto'], tabelaJulho['Estado - Sigla']]).mean())"
      ],
      "metadata": {
        "id": "oARsaTcmVRmH",
        "outputId": "f0ce0125-6bcd-408f-9914-f29cdaaefbc8",
        "colab": {
          "base_uri": "https://localhost:8080/"
        }
      },
      "execution_count": 11,
      "outputs": [
        {
          "output_type": "stream",
          "name": "stdout",
          "text": [
            "Produto             Estado - Sigla\n",
            "ETANOL              AC                5.680833\n",
            "                    AL                5.484825\n",
            "                    AM                5.203815\n",
            "                    AP                5.976667\n",
            "                    BA                5.437953\n",
            "                                        ...   \n",
            "GASOLINA ADITIVADA  RS                6.109490\n",
            "                    SC                6.048292\n",
            "                    SE                6.172516\n",
            "                    SP                6.075090\n",
            "                    TO                6.508958\n",
            "Name: Valor de Venda, Length: 81, dtype: float64\n"
          ]
        }
      ]
    },
    {
      "cell_type": "code",
      "source": [
        "print(tabelaAgosto['Valor de Venda'].groupby([tabelaAgosto['Produto'], tabelaAgosto['Estado - Sigla']]).mean())"
      ],
      "metadata": {
        "id": "v-KHaNd4X956",
        "outputId": "4d0d3ec6-93d5-4f6e-9ff4-dc081b1dfcd5",
        "colab": {
          "base_uri": "https://localhost:8080/"
        }
      },
      "execution_count": 8,
      "outputs": [
        {
          "output_type": "stream",
          "name": "stdout",
          "text": [
            "Produto             Estado - Sigla\n",
            "ETANOL              AC                5.128641\n",
            "                    AL                5.030152\n",
            "                    AM                4.763493\n",
            "                    AP                5.655000\n",
            "                    BA                4.770243\n",
            "                                        ...   \n",
            "GASOLINA ADITIVADA  RS                5.468107\n",
            "                    SC                5.558880\n",
            "                    SE                5.261623\n",
            "                    SP                5.523399\n",
            "                    TO                5.889279\n",
            "Name: Valor de Venda, Length: 81, dtype: float64\n"
          ]
        }
      ]
    },
    {
      "cell_type": "code",
      "source": [],
      "metadata": {
        "id": "lOpFVftaZn2H"
      },
      "execution_count": null,
      "outputs": []
    },
    {
      "cell_type": "code",
      "source": [],
      "metadata": {
        "id": "bX0zvv_xZuyu"
      },
      "execution_count": null,
      "outputs": []
    }
  ],
  "metadata": {
    "colab": {
      "provenance": [],
      "include_colab_link": true
    },
    "kernelspec": {
      "display_name": "Python 3",
      "name": "python3"
    },
    "language_info": {
      "name": "python"
    }
  },
  "nbformat": 4,
  "nbformat_minor": 0
}